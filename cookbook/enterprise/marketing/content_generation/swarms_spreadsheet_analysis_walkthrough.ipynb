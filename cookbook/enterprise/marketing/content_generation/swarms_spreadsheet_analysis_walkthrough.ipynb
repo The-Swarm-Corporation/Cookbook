{
 "cells": [
  {
   "cell_type": "markdown",
   "id": "965c183b",
   "metadata": {},
   "source": [
    "\n",
    "# Comprehensive Walkthrough: Managing Multiple Agent Outputs with SpreadSheetSwarm\n",
    "\n",
    "In this notebook, we'll explore how to manage and analyze outputs from multiple agents using the `SpreadSheetSwarm` architecture. \n",
    "When dealing with multiple agents, each producing different outputs, it can become challenging to manage and analyze these results efficiently. \n",
    "The `SpreadSheetSwarm` helps solve this problem by organizing the outputs into a spreadsheet format, making it easier to compare, analyze, \n",
    "and optimize the results.\n",
    "\n",
    "### Objectives:\n",
    "- Understand the challenges of managing multiple agent outputs.\n",
    "- Learn how to create custom agents for different tasks.\n",
    "- Use `SpreadSheetSwarm` to organize and analyze agent outputs in a spreadsheet.\n",
    "- Explore how this approach simplifies the analysis and optimization of outputs.\n",
    "\n",
    "For more detailed information, please refer to the [Swarms GitHub Repository](https://github.com/kyegomez/swarms) and join the [Swarms Community](https://discord.com/servers/agora-999382051935506503).\n"
   ]
  },
  {
   "cell_type": "markdown",
   "id": "5431acab",
   "metadata": {},
   "source": [
    "# Installation\n",
    "Ensure you have swarms installed with the following command!\n",
    "\n",
    "```bash\n",
    "$ pip3 install -U swarms pandas\n",
    "```"
   ]
  },
  {
   "cell_type": "markdown",
   "id": "6c89a841",
   "metadata": {},
   "source": [
    "\n",
    "## Step 1: Setting Up the Environment\n",
    "\n",
    "First, we'll load our environment variables and initialize the model. Ensure that your OpenAI API key is stored in a `.env` file in the same directory as this notebook.\n"
   ]
  },
  {
   "cell_type": "code",
   "execution_count": null,
   "id": "3e0b261d",
   "metadata": {},
   "outputs": [],
   "source": [
    "\n",
    "import os\n",
    "from dotenv import load_dotenv\n",
    "from swarms import OpenAIChat\n",
    "\n",
    "# Load environment variables\n",
    "load_dotenv()\n",
    "\n",
    "# Get the API key from the environment variables\n",
    "api_key = os.environ.get(\"OPENAI_API_KEY\")\n",
    "\n",
    "# Initialize the OpenAIChat model\n",
    "model = OpenAIChat(\n",
    "    openai_api_key=api_key, model_name=\"gpt-4o-mini\", temperature=0.1\n",
    ")\n",
    "\n",
    "print(\"Environment set up and model initialized successfully!\")\n"
   ]
  },
  {
   "cell_type": "markdown",
   "id": "b159e5a1",
   "metadata": {},
   "source": [
    "\n",
    "## Step 2: Creating Custom Agents\n",
    "\n",
    "Next, we'll create custom agents for different social media platforms. Each agent will be configured with a specific system prompt tailored \n",
    "to the requirements of that platform. These agents will generate content for Twitter, Instagram, Facebook, and Email marketing.\n"
   ]
  },
  {
   "cell_type": "code",
   "execution_count": null,
   "id": "8c82ebf0",
   "metadata": {},
   "outputs": [],
   "source": [
    "\n",
    "from swarms import Agent\n",
    "\n",
    "# Define custom system prompts for each social media platform\n",
    "TWITTER_AGENT_SYS_PROMPT = '''\n",
    "You are a Twitter marketing expert. Your task is to create engaging, concise tweets and analyze trends to maximize engagement. Consider hashtags, timing, and content relevance.\n",
    "'''\n",
    "\n",
    "INSTAGRAM_AGENT_SYS_PROMPT = '''\n",
    "You are an Instagram marketing expert. Your task is to create visually appealing and engaging content, including captions and hashtags, tailored to a specific audience.\n",
    "'''\n",
    "\n",
    "FACEBOOK_AGENT_SYS_PROMPT = '''\n",
    "You are a Facebook marketing expert. Your task is to craft posts that are optimized for engagement and reach on Facebook, including using images, links, and targeted messaging.\n",
    "'''\n",
    "\n",
    "EMAIL_AGENT_SYS_PROMPT = '''\n",
    "You are an Email marketing expert. Your task is to write compelling email campaigns that drive conversions, focusing on subject lines, personalization, and call-to-action strategies.\n",
    "'''\n",
    "\n",
    "# Initialize your agents for different social media platforms\n",
    "agents = [\n",
    "    Agent(\n",
    "        agent_name=\"Twitter-Marketing-Agent\",\n",
    "        system_prompt=TWITTER_AGENT_SYS_PROMPT,\n",
    "        llm=model,\n",
    "        max_loops=1,\n",
    "        dynamic_temperature_enabled=True,\n",
    "        saved_state_path=\"twitter_agent.json\",\n",
    "        user_name=\"swarms_corp\",\n",
    "        retry_attempts=1,\n",
    "    ),\n",
    "    Agent(\n",
    "        agent_name=\"Instagram-Marketing-Agent\",\n",
    "        system_prompt=INSTAGRAM_AGENT_SYS_PROMPT,\n",
    "        llm=model,\n",
    "        max_loops=1,\n",
    "        dynamic_temperature_enabled=True,\n",
    "        saved_state_path=\"instagram_agent.json\",\n",
    "        user_name=\"swarms_corp\",\n",
    "        retry_attempts=1,\n",
    "    ),\n",
    "    Agent(\n",
    "        agent_name=\"Facebook-Marketing-Agent\",\n",
    "        system_prompt=FACEBOOK_AGENT_SYS_PROMPT,\n",
    "        llm=model,\n",
    "        max_loops=1,\n",
    "        dynamic_temperature_enabled=True,\n",
    "        saved_state_path=\"facebook_agent.json\",\n",
    "        user_name=\"swarms_corp\",\n",
    "        retry_attempts=1,\n",
    "    ),\n",
    "    Agent(\n",
    "        agent_name=\"Email-Marketing-Agent\",\n",
    "        system_prompt=EMAIL_AGENT_SYS_PROMPT,\n",
    "        llm=model,\n",
    "        max_loops=1,\n",
    "        dynamic_temperature_enabled=True,\n",
    "        saved_state_path=\"email_agent.json\",\n",
    "        user_name=\"swarms_corp\",\n",
    "        retry_attempts=1,\n",
    "    ),\n",
    "]\n",
    "\n",
    "print(\"Custom agents created successfully!\")\n"
   ]
  },
  {
   "cell_type": "markdown",
   "id": "28362499",
   "metadata": {},
   "source": [
    "\n",
    "## Step 3: Defining the SpreadSheetSwarm\n",
    "\n",
    "Now, we'll create a `SpreadSheetSwarm` that can run multiple agents in parallel and collect their outputs in a spreadsheet format. \n",
    "This makes it easy to analyze the results from each agent side by side.\n"
   ]
  },
  {
   "cell_type": "code",
   "execution_count": null,
   "id": "37551cc6",
   "metadata": {},
   "outputs": [],
   "source": [
    "\n",
    "from swarms.structs.spreadsheet_swarm import SpreadSheetSwarm\n",
    "\n",
    "# Create a Swarm with the list of agents\n",
    "swarm = SpreadSheetSwarm(\n",
    "    name=\"Social-Media-Marketing-Swarm\",\n",
    "    description=\"A swarm that processes social media marketing tasks using multiple agents on different threads.\",\n",
    "    agents=agents,\n",
    "    autosave_on=True,\n",
    "    save_file_path=\"social_media_marketing_spreadsheet.csv\",\n",
    "    run_all_agents=False,\n",
    "    repeat_count=2,\n",
    ")\n",
    "\n",
    "print(\"SpreadSheetSwarm defined successfully!\")\n"
   ]
  },
  {
   "cell_type": "markdown",
   "id": "90fdaef3",
   "metadata": {},
   "source": [
    "\n",
    "## Step 4: Running the Swarm\n",
    "\n",
    "With our agents and `SpreadSheetSwarm` set up, we'll now run the swarm on a sample task. This task will involve creating content \n",
    "to promote a series of hack nights in Miami Beach for developers, engineers, and tech enthusiasts. The agents will generate content \n",
    "for Twitter, Instagram, Facebook, and an Email campaign, and the outputs will be saved in a spreadsheet.\n"
   ]
  },
  {
   "cell_type": "code",
   "execution_count": null,
   "id": "e1b005a5",
   "metadata": {},
   "outputs": [],
   "source": [
    "\n",
    "# Run the swarm\n",
    "swarm.run(\n",
    "    task=\"Create posts to promote hack nights in Miami Beach for developers, engineers, and tech enthusiasts. Include relevant hashtags, images, and engaging captions.\"\n",
    ")\n",
    "\n",
    "print(\"Swarm run completed. Check the 'social_media_marketing_spreadsheet.csv' file for the results.\")\n"
   ]
  },
  {
   "cell_type": "markdown",
   "id": "bd9ef4e9",
   "metadata": {},
   "source": [
    "\n",
    "## Step 5: Analyzing the Results\n",
    "\n",
    "The outputs from each agent have been saved in a spreadsheet file named `social_media_marketing_spreadsheet.csv`. \n",
    "This structured format allows you to easily compare the outputs from each agent, analyze the effectiveness of the content, \n",
    "and make informed decisions on how to optimize your social media marketing strategy.\n"
   ]
  },
  {
   "cell_type": "code",
   "execution_count": null,
   "id": "b0dfaf8e",
   "metadata": {},
   "outputs": [],
   "source": [
    "\n",
    "import pandas as pd\n",
    "\n",
    "# Load the results into a DataFrame\n",
    "df = pd.read_csv(\"social_media_marketing_spreadsheet.csv\")\n",
    "\n",
    "# Display the DataFrame\n",
    "df.head()\n"
   ]
  },
  {
   "cell_type": "markdown",
   "id": "88204160",
   "metadata": {},
   "source": [
    "\n",
    "## Conclusion and Next Steps\n",
    "\n",
    "In this notebook, we've demonstrated how to manage and analyze outputs from multiple agents using the `SpreadSheetSwarm` architecture. \n",
    "This approach simplifies the process of handling multiple agent outputs by organizing them into a structured spreadsheet format, \n",
    "making it easier to compare and optimize your content.\n",
    "\n",
    "### Next Steps:\n",
    "- Explore the [Swarms GitHub Repository](https://github.com/swarms-corp/swarms) to learn more about the Swarms framework.\n",
    "- Join the [Swarms Community](https://discord.gg/swarms) for support, discussions, and updates.\n",
    "- Experiment with different tasks, agents, and scenarios to see how this architecture can be applied to other use cases.\n",
    "\n",
    "Thank you for following along!\n"
   ]
  }
 ],
 "metadata": {
  "language_info": {
   "name": "python"
  }
 },
 "nbformat": 4,
 "nbformat_minor": 5
}
