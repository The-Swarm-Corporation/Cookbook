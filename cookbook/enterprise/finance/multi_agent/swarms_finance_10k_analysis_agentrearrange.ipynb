{
 "cells": [
  {
   "cell_type": "markdown",
   "id": "a3c4a08b",
   "metadata": {},
   "source": [
    "\n",
    "# Analyzing 10-K Reports using AgentRearrange with Mixed Sequential and Parallel Swarm\n",
    "\n",
    "This notebook will guide you through the process of setting up a mixed sequential and parallel workflow to analyze 10-K reports filed with the SEC. \n",
    "Using the `swarms` framework and the `AgentRearrange` class, we'll create specialized agents that focus on different aspects of the 10-K reports, \n",
    "such as financial statements, management discussion, and risk factors. The workflow will process some tasks sequentially while others will run in parallel.\n",
    "\n",
    "For more detailed information, please refer to the [Swarms Documentation](https://docs.swarms.world/en/latest/).\n"
   ]
  },
  {
   "cell_type": "markdown",
   "id": "a6006eee",
   "metadata": {},
   "source": [
    "# Installation\n",
    "Ensure you have swarms and other packages installed with:\n",
    "\n",
    "```bash\n",
    "$ pip3 install -U swarms python-dotenv PyPDF2\n",
    "```\n"
   ]
  },
  {
   "cell_type": "markdown",
   "id": "cb28fed0",
   "metadata": {},
   "source": [
    "\n",
    "## Step 1: Setting Up the Environment\n",
    "\n",
    "First, we need to load our environment variables and initialize the model. Make sure you have your OpenAI API key stored \n",
    "in a `.env` file in the same directory as this notebook.\n"
   ]
  },
  {
   "cell_type": "code",
   "execution_count": null,
   "id": "838e3a6c",
   "metadata": {},
   "outputs": [],
   "source": [
    "\n",
    "import os\n",
    "from dotenv import load_dotenv\n",
    "from swarms import OpenAIChat\n",
    "\n",
    "# Load environment variables\n",
    "load_dotenv()\n",
    "\n",
    "# Get the API key from the environment variables\n",
    "api_key = os.environ.get(\"OPENAI_API_KEY\")\n",
    "\n",
    "# Initialize the OpenAIChat model\n",
    "llm = OpenAIChat(\n",
    "    temperature=0.5, \n",
    "    model_name=\"gpt-4o-mini\", \n",
    "    openai_api_key=api_key, \n",
    "    max_tokens=4000\n",
    ")\n",
    "\n",
    "print(\"Environment set up and model initialized successfully!\")\n"
   ]
  },
  {
   "cell_type": "markdown",
   "id": "99affc24",
   "metadata": {},
   "source": [
    "\n",
    "## Step 2: Creating the Agents\n",
    "\n",
    "Next, we'll create the agents that will analyze different sections of the 10-K report. Each agent is assigned a specific task \n",
    "with a detailed system prompt. The agents include:\n",
    "- **FinancialStatementsExpert**: Analyzes the financial statements section.\n",
    "- **ManagementDiscussionReviewer**: Reviews the management's discussion and analysis.\n",
    "- **RiskAssessmentAnalyst**: Examines the risk factors section.\n",
    "\n",
    "Let's create each agent with its specific prompt.\n"
   ]
  },
  {
   "cell_type": "code",
   "execution_count": null,
   "id": "6b433163",
   "metadata": {},
   "outputs": [],
   "source": [
    "\n",
    "from swarms import Agent\n",
    "\n",
    "# Initialize FinancialStatementsExpert agent\n",
    "financial_statements_expert = Agent(\n",
    "    agent_name=\"FinancialStatementsExpert\",\n",
    "    llm=llm,\n",
    "    max_loops=1,\n",
    "    autosave=True,\n",
    "    system_prompt=(\n",
    "        \"You are an expert in financial analysis. Your task is to thoroughly analyze the financial statements section \"\n",
    "        \"of the 10-K report. Pay close attention to the balance sheet, income statement, and cash flow statement. Identify \"\n",
    "        \"key financial metrics such as revenue growth, profit margins, debt levels, and cash flow trends. Provide a detailed \"\n",
    "        \"summary of your findings, highlighting any potential red flags or areas of concern.\"\n",
    "    )\n",
    ")\n",
    "\n",
    "# Initialize ManagementDiscussionReviewer agent\n",
    "management_discussion_reviewer = Agent(\n",
    "    agent_name=\"ManagementDiscussionReviewer\",\n",
    "    llm=llm,\n",
    "    max_loops=1,\n",
    "    autosave=True,\n",
    "    system_prompt=(\n",
    "        \"You specialize in understanding and interpreting management's discussion and analysis. Your task is to critically \"\n",
    "        \"review this section of the 10-K report. Identify the key themes discussed by management, such as company performance, \"\n",
    "        \"strategic initiatives, and forward-looking statements. Analyze the tone and language used to assess management's confidence \"\n",
    "        \"in the company's future prospects. Summarize the key points and provide insights into potential risks or opportunities.\"\n",
    "    )\n",
    ")\n",
    "\n",
    "# Initialize RiskAssessmentAnalyst agent\n",
    "risk_assessment_analyst = Agent(\n",
    "    agent_name=\"RiskAssessmentAnalyst\",\n",
    "    llm=llm,\n",
    "    max_loops=1,\n",
    "    autosave=True,\n",
    "    system_prompt=(\n",
    "        \"As an expert in risk management, your task is to analyze the risk factors section of the 10-K report. Carefully read through \"\n",
    "        \"the risks identified by the company, and assess their potential impact on the company's operations and financial performance. \"\n",
    "        \"Prioritize the risks based on their severity and likelihood, and provide recommendations on how the company might mitigate these risks.\"\n",
    "    )\n",
    ")\n",
    "\n",
    "# Initialize SummaryReportGenerator agent\n",
    "summary_report_generator = Agent(\n",
    "    agent_name=\"SummaryReportGenerator\",\n",
    "    llm=llm,\n",
    "    max_loops=1,\n",
    "    autosave=True,\n",
    "    dashboard=False,\n",
    "    system_prompt=(\n",
    "        \"You are a specialist in creating executive summaries. Your task is to consolidate the findings from the financial statements, \"\n",
    "        \"management discussion, and risk factors into a cohesive summary report. Highlight the most important insights and provide \"\n",
    "        \"a clear and concise overview that can be presented to senior management.\"\n",
    "    )\n",
    ")\n",
    "\n",
    "print(\"Agents created successfully!\")\n"
   ]
  },
  {
   "cell_type": "markdown",
   "id": "c3b5453d",
   "metadata": {},
   "source": [
    "\n",
    "## Step 3: Defining the Workflow with AgentRearrange\n",
    "\n",
    "Now that we have our agents, we'll set up a workflow using the `AgentRearrange` class. This workflow will process the tasks \n",
    "sequentially and in parallel, as defined by the flow: `\"FinancialStatementsExpert -> ManagementDiscussionReviewer, RiskAssessmentAnalyst, SummaryReportGenerator\"`.\n"
   ]
  },
  {
   "cell_type": "code",
   "execution_count": null,
   "id": "c1b640fb",
   "metadata": {},
   "outputs": [],
   "source": [
    "\n",
    "from swarms import AgentRearrange\n",
    "\n",
    "# Create a list of agents\n",
    "agents = [financial_statements_expert, management_discussion_reviewer, risk_assessment_analyst, summary_report_generator]\n",
    "\n",
    "# Define the flow pattern\n",
    "flow = \"FinancialStatementsExpert -> ManagementDiscussionReviewer, RiskAssessmentAnalyst, SummaryReportGenerator\"\n",
    "\n",
    "# Using AgentRearrange class to create the workflow\n",
    "agent_system = AgentRearrange(agents=agents, flow=flow, max_loops=1)\n",
    "\n",
    "print(\"Workflow defined successfully!\")\n"
   ]
  },
  {
   "cell_type": "markdown",
   "id": "2c0f2aa7",
   "metadata": {},
   "source": [
    "\n",
    "## Step 4: Running the Workflow\n",
    "\n",
    "Now it's time to execute the workflow. The agents will analyze the assigned sections of the 10-K report, following the defined \n",
    "flow where the financial statements are analyzed first, followed by parallel analyses of the management discussion, risk factors, \n",
    "and then generating the summary report.\n",
    "\n",
    "First, we're going to parse and load the PDF into the swarm, and then the pdf is going to be sent to all of the agents at once."
   ]
  },
  {
   "cell_type": "code",
   "execution_count": null,
   "id": "372c8c9c",
   "metadata": {},
   "outputs": [],
   "source": [
    "\n",
    "# pip install PyPDF2 \n",
    "import PyPDF2\n",
    "\n",
    "def load_pdf_to_string(file_path: str):\n",
    "    # Open the PDF file in read-binary mode\n",
    "    with open(file_path, 'rb') as file:\n",
    "        # Create a PDF file reader object\n",
    "        pdf_reader = PyPDF2.PdfFileReader(file)\n",
    "        \n",
    "        text = \"\"\n",
    "        # Loop through all the pages (if multiple) and extract text\n",
    "        for page_number in range(pdf_reader.getNumPages()):\n",
    "            page = pdf_reader.getPage(page_number)\n",
    "            text += page.extractText()\n",
    "        \n",
    "        # Return the extracted text\n",
    "        return text\n",
    "\n",
    "ten_k_data = load_pdf_to_string(\"sample_10k.pdf\")\n",
    "\n",
    "# Run the workflow\n",
    "output = agent_system.run(f\"Analyze the 10-K report and generate a summary report: {ten_k_data}\")\n",
    "print(output)\n"
   ]
  },
  {
   "cell_type": "markdown",
   "id": "d35a34ec",
   "metadata": {},
   "source": [
    "\n",
    "## Conclusion and Next Steps\n",
    "\n",
    "You've successfully set up and run a mixed sequential and parallel workflow to analyze 10-K reports using specialized agents. \n",
    "This approach demonstrates how multi-agent systems can be used to automate complex financial analysis tasks, providing valuable \n",
    "insights from detailed reports.\n",
    "\n",
    "### Next Steps:\n",
    "- Explore the [Swarms Documentation](https://docs.swarms.world/en/latest/) for more details and advanced features.\n",
    "- Experiment with different agents, tasks, and scenarios to see how the system adapts.\n",
    "- Consider applying this framework to other types of financial reports or even different domains.\n",
    "\n",
    "Thank you for following along!\n"
   ]
  }
 ],
 "metadata": {
  "language_info": {
   "name": "python"
  }
 },
 "nbformat": 4,
 "nbformat_minor": 5
}
