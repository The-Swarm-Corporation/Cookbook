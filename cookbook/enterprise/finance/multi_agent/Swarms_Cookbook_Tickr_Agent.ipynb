{
 "cells": [
  {
   "cell_type": "markdown",
   "id": "209b4525",
   "metadata": {},
   "source": [
    "# Swarms Cookbook: Tickr-Agent Financial Analysis\n",
    "\n",
    "Welcome to the Swarms Cookbook! In this guide, we will walk you through the steps of running **Tickr-Agent**, a Python library for building swarms of financial agents that perform stock analysis at an enterprise scale.\n",
    "\n",
    "Tickr-Agent is built to handle real-time financial data analysis, multithreaded processing, and seamless AI integration, powered by OpenAI models. \n",
    "\n",
    "### Key Features:\n",
    "- **Multithreaded Stock Data Fetching**: Efficiently fetch and analyze data for multiple stocks.\n",
    "- **Advanced Logging**: Utilize loguru for comprehensive logging.\n",
    "- **AI-Integrated**: Integrate OpenAI models for financial insights.\n",
    "- **Pydantic Validation**: Ensure reliable and validated stock data.\n",
    "  \n",
    "Follow the step-by-step guide below to get started with Tickr-Agent and automate your stock analysis tasks.\n",
    "\n",
    "Be sure to visit the **[Swarms GitHub](https://github.com/kyegomez/swarms)**, **[Discord](https://discord.com/servers/agora-999382051935506503)**, and **[Swarms Marketplace](https://swarms.xyz)** for more resources and to connect with the community.\n"
   ]
  },
  {
   "cell_type": "markdown",
   "id": "dd7ad131",
   "metadata": {},
   "source": [
    "## Installation\n",
    "\n",
    "Before we begin, make sure to install the required packages. Run the following command to install **tickr-agent**:\n",
    "\n",
    "```bash\n",
    "pip3 install -U tickr-agent\n",
    "```\n",
    "\n",
    "You will also need to create an `.env` file with the following environment variables:\n",
    "\n",
    "```bash\n",
    "WORKSPACE_DIR=\"\"\n",
    "OPENAI_API_KEY=\"\"\n",
    "```\n"
   ]
  },
  {
   "cell_type": "code",
   "execution_count": null,
   "id": "d902146a",
   "metadata": {},
   "outputs": [],
   "source": [
    "# Import necessary libraries\n",
    "from tickr_agent.main import TickrAgent\n",
    "from loguru import logger\n",
    "\n",
    "# Ensure proper logging setup\n",
    "logger.add(\"tickr_agent.log\", rotation=\"500 MB\")\n"
   ]
  },
  {
   "cell_type": "markdown",
   "id": "680ec04a",
   "metadata": {},
   "source": [
    "## Setting Up the Tickr Agent\n",
    "\n",
    "Now, let's set up the `TickrAgent` to perform stock analysis on a set of tickers. For this example, we'll analyze two stocks: **NVDA** and **CEG**.\n",
    "\n",
    "We can configure the agent with the following parameters:\n",
    "- `stocks`: A list of stock tickers to analyze.\n",
    "- `max_loops`: How many times the agent should run.\n",
    "- `workers`: Number of threads for concurrent processing.\n",
    "- `retry_attempts`: Number of retry attempts for failed fetches.\n",
    "- `context_length`: Context window length for AI-powered analysis.\n",
    "\n",
    "Below is an example of setting up and running the agent.\n"
   ]
  },
  {
   "cell_type": "code",
   "execution_count": null,
   "id": "893c800d",
   "metadata": {},
   "outputs": [],
   "source": [
    "# Define stock tickers\n",
    "stocks = [\"NVDA\", \"CEG\"]\n",
    "\n",
    "# Initialize the TickrAgent\n",
    "agent = TickrAgent(\n",
    "    stocks=stocks,\n",
    "    max_loops=1,\n",
    "    workers=10,\n",
    "    retry_attempts=1,\n",
    "    context_length=16000,\n",
    ")\n",
    "\n",
    "# Run the analysis and fetch results\n",
    "result = agent.run(\"Conduct an analysis on this stock and show me if it's a buy or not and why\")\n",
    "\n",
    "# Output the result\n",
    "print(result)\n"
   ]
  },
  {
   "cell_type": "markdown",
   "id": "e461591d",
   "metadata": {},
   "source": [
    "## How It Works\n",
    "\n",
    "- **Stock Data Fetching**: The agent fetches real-time stock data from the financial APIs using the `yfinance` library. It computes technical indicators such as RSI and moving averages.\n",
    "- **Multithreading**: Stock tickers are processed concurrently using Python’s ThreadPoolExecutor, enhancing performance.\n",
    "- **Data Validation**: All stock data is validated using `pydantic` to ensure accuracy and consistency.\n",
    "- **AI-Driven Insights**: The processed data is sent to OpenAI's API for in-depth analysis and insights, such as whether a stock is a buy or not.\n",
    "\n",
    "Tickr-Agent makes the whole process seamless and enterprise-ready.\n"
   ]
  },
  {
   "cell_type": "markdown",
   "id": "5fbb5848",
   "metadata": {},
   "source": [
    "## Next Steps and Resources\n",
    "\n",
    "Congratulations! You've successfully run a stock analysis using Tickr-Agent.\n",
    "\n",
    "To explore more, you can:\n",
    "- Experiment with different stock tickers.\n",
    "- Adjust the agent configuration (e.g., `max_loops`, `workers`).\n",
    "- Integrate Tickr-Agent into your own workflows.\n",
    "\n",
    "For more examples and to contribute to the project, check out:\n",
    "- **[Swarms GitHub](https://github.com/kyegomez/swarms)**\n",
    "- **[Swarms Discord](https://discord.com/servers/agora-999382051935506503)**\n",
    "- **[Swarms Marketplace](https://swarms.xyz)**\n",
    "\n",
    "Stay connected with the community and continue automating with agent swarms!\n"
   ]
  }
 ],
 "metadata": {},
 "nbformat": 4,
 "nbformat_minor": 5
}
