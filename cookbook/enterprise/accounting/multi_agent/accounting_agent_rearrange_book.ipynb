{
 "cells": [
  {
   "cell_type": "markdown",
   "id": "d4af840b",
   "metadata": {},
   "source": [
    "\n",
    "# Building a Swarm of Agents for Accounting Tasks\n",
    "\n",
    "This notebook will guide you through the process of creating a swarm of agents using the `swarms` framework. \n",
    "We will focus on analyzing cash flow statements and balance sheets, demonstrating how these agents can \n",
    "collaborate to produce a comprehensive financial report.\n",
    "\n",
    "### Objectives\n",
    "- **Learn** how to initialize and configure the model.\n",
    "- **Understand** the purpose of each agent in the swarm.\n",
    "- **Interact** with the agents by running the system and analyzing the outputs.\n",
    "- **Explore** the potential applications of such systems in real-world scenarios.\n",
    "\n",
    "Let's get started!\n"
   ]
  },
  {
   "cell_type": "markdown",
   "id": "c546142a",
   "metadata": {},
   "source": [
    "# Installation\n",
    "Ensure you have swarms installed with:\n",
    "\n",
    "```bash\n",
    "$ pip3 install -U swarms\n",
    "```"
   ]
  },
  {
   "cell_type": "markdown",
   "id": "7c029fdc",
   "metadata": {},
   "source": [
    "\n",
    "## Step 1: Model Initialization\n",
    "\n",
    "In this step, we initialize the language model that will power our agents. We will use the `OpenAIChat` model, \n",
    "configured with specific parameters to suit our needs. \n",
    "\n",
    "**Note:** Replace `\"your_api_key_here\"` with your actual API key before running the cell.\n"
   ]
  },
  {
   "cell_type": "code",
   "execution_count": null,
   "id": "667aa292",
   "metadata": {},
   "outputs": [],
   "source": [
    "# -*- coding: utf-8 -*-\n",
    "# pip install swarms\n",
    "from swarms import Agent, AgentRearrange, OpenAIChat\n",
    "\n",
    "\n",
    "# Create an instance of the OpenAIChat class\n",
    "model = OpenAIChat(\n",
    "    api_key=\"your_api_key_here\", model_name=\"gpt-4o-mini\", temperature=0.1\n",
    ")\n",
    "\n",
    "print(\"Model initialized successfully!\")\n"
   ]
  },
  {
   "cell_type": "markdown",
   "id": "c3dce36a",
   "metadata": {},
   "source": [
    "\n",
    "## Step 2: Agent Creation\n",
    "\n",
    "Now, we will create the agents that will perform specific tasks related to accounting. Each agent is configured with a unique \n",
    "role and system prompt. \n",
    "\n",
    "We'll start with the `AccountingDirector`, who will orchestrate the tasks, followed by agents specialized in analyzing balance sheets, cash flow statements, and generating reports.\n",
    "\n",
    "80% of an agent's performance is dependent on the quality of your prompts, so be mindful and if issues arise with performance, upgrade your prompt with better instructions or more examples"
   ]
  },
  {
   "cell_type": "code",
   "execution_count": null,
   "id": "d0775298",
   "metadata": {},
   "outputs": [],
   "source": [
    "\n",
    "# Initialize the AccountingDirector agent\n",
    "director = Agent(\n",
    "    agent_name=\"AccountingDirector\",\n",
    "    system_prompt=\"Directs the tasks for the workers in analyzing cashflow statements, balance sheets, and more.\",\n",
    "    llm=model,\n",
    "    max_loops=1,\n",
    "    dashboard=False,\n",
    "    streaming_on=True,\n",
    "    verbose=True,\n",
    "    stopping_token=\"<DONE>\",\n",
    "    state_save_file_type=\"json\",\n",
    "    saved_state_path=\"accounting_director.json\",\n",
    ")\n",
    "\n",
    "# Initialize BalanceSheetAnalyzer agent\n",
    "balance_sheet_analyzer = Agent(\n",
    "    agent_name=\"BalanceSheetAnalyzer\",\n",
    "    system_prompt=\"Analyzes balance sheets, identifying key metrics like assets, liabilities, and equity.\",\n",
    "    llm=model,\n",
    "    max_loops=1,\n",
    "    dashboard=False,\n",
    "    streaming_on=True,\n",
    "    verbose=True,\n",
    "    stopping_token=\"<DONE>\",\n",
    "    state_save_file_type=\"json\",\n",
    "    saved_state_path=\"balance_sheet_analyzer.json\",\n",
    ")\n",
    "\n",
    "# Initialize CashFlowAnalyzer agent\n",
    "cash_flow_analyzer = Agent(\n",
    "    agent_name=\"CashFlowAnalyzer\",\n",
    "    system_prompt=\"Analyzes cash flow statements, identifying cash inflows, outflows, and net cash flow.\",\n",
    "    llm=model,\n",
    "    max_loops=1,\n",
    "    dashboard=False,\n",
    "    streaming_on=True,\n",
    "    verbose=True,\n",
    "    stopping_token=\"<DONE>\",\n",
    "    state_save_file_type=\"json\",\n",
    "    saved_state_path=\"cash_flow_analyzer.json\",\n",
    ")\n",
    "\n",
    "# Initialize ReportGenerator agent\n",
    "report_generator = Agent(\n",
    "    agent_name=\"ReportGenerator\",\n",
    "    system_prompt=\"Summarizes the analyses provided by BalanceSheetAnalyzer and CashFlowAnalyzer, generating a cohesive report.\",\n",
    "    llm=model,\n",
    "    max_loops=1,\n",
    "    dashboard=False,\n",
    "    streaming_on=True,\n",
    "    verbose=True,\n",
    "    stopping_token=\"<DONE>\",\n",
    "    state_save_file_type=\"json\",\n",
    "    saved_state_path=\"report_generator.json\",\n",
    ")\n",
    "\n",
    "print(\"Agents initialized successfully!\")\n"
   ]
  },
  {
   "cell_type": "markdown",
   "id": "c73f82fd",
   "metadata": {},
   "source": [
    "\n",
    "## Step 3: Defining the Agent Flow\n",
    "\n",
    "In this step, we define how the agents will interact with each other. The `AccountingDirector` will assign tasks to the `BalanceSheetAnalyzer` \n",
    "and `CashFlowAnalyzer`, and then the `ReportGenerator` will compile the results.\n",
    "\n",
    "This flow ensures that each agent focuses on its specialized task, and the overall process is efficient and organized.\n"
   ]
  },
  {
   "cell_type": "code",
   "execution_count": null,
   "id": "4482b9c7",
   "metadata": {},
   "outputs": [],
   "source": [
    "\n",
    "# Create a list of agents\n",
    "agents = [director, balance_sheet_analyzer, cash_flow_analyzer, report_generator]\n",
    "\n",
    "# Define the flow pattern\n",
    "flow = \"AccountingDirector -> BalanceSheetAnalyzer -> CashFlowAnalyzer -> ReportGenerator\"\n",
    "\n",
    "# Using AgentRearrange class\n",
    "agent_system = AgentRearrange(agents=agents, flow=flow)\n",
    "\n",
    "print(\"Agent flow defined successfully!\")\n"
   ]
  },
  {
   "cell_type": "markdown",
   "id": "8fa46276",
   "metadata": {},
   "source": [
    "\n",
    "## Step 4: Running the Agent System\n",
    "\n",
    "Now it's time to see our agents in action! In this step, we will run the system on a hypothetical scenario, \n",
    "where the agents will analyze the Q4 financial data and generate a summary report.\n"
   ]
  },
  {
   "cell_type": "code",
   "execution_count": null,
   "id": "34d8e8a8",
   "metadata": {},
   "outputs": [],
   "source": [
    "\n",
    "# Run the agent system\n",
    "output = agent_system.run(\n",
    "    \"Analyze the cashflow statement and balance sheet for Q4 and provide a summary report.\"\n",
    ")\n",
    "\n",
    "print(output)\n"
   ]
  },
  {
   "cell_type": "markdown",
   "id": "7dafd262",
   "metadata": {},
   "source": [
    "\n",
    "## Step 5: Results and Interpretation\n",
    "\n",
    "The output generated by the agents provides a comprehensive analysis of the Q4 financial data. \n",
    "Here, we'll break down the results and discuss how they can be interpreted and applied in a real-world context.\n",
    "\n",
    "Feel free to experiment by modifying the inputs or adding more agents to see how the system adapts to different scenarios.\n"
   ]
  },
  {
   "cell_type": "markdown",
   "id": "7f76a0d1",
   "metadata": {},
   "source": [
    "\n",
    "## Conclusion\n",
    "\n",
    "Congratulations! You've successfully created and run a swarm of agents to perform accounting tasks. \n",
    "This system showcases the power of multi-agent collaboration, particularly in automating complex processes \n",
    "like financial analysis. \n",
    "\n",
    "### Next Steps\n",
    "- Try integrating more specialized agents, such as those focused on tax calculations or budget forecasting.\n",
    "- Experiment with different models and parameters to see how they impact the results.\n",
    "- Consider applying this approach to other domains, such as marketing, sales, or operations.\n",
    "\n",
    "Thank you for following along, and happy coding!\n"
   ]
  }
 ],
 "metadata": {
  "language_info": {
   "name": "python"
  }
 },
 "nbformat": 4,
 "nbformat_minor": 5
}
