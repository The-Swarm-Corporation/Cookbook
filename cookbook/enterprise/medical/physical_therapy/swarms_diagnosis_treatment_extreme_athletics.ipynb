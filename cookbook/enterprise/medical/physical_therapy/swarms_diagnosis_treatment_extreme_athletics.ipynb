{
 "cells": [
  {
   "cell_type": "markdown",
   "id": "48042c23",
   "metadata": {},
   "source": [
    "\n",
    "# Diagnosis and Treatment Swarm for Extreme Athletics using AgentRearrange\n",
    "\n",
    "This notebook will guide you through the process of setting up a swarm of agents designed to diagnose and treat issues related to extreme athletics, \n",
    "such as nausea and fatigue. Using the `swarms` framework and the `AgentRearrange` class, we'll create customized agents that focus on different aspects \n",
    "of diagnosis and treatment. We'll also include a human in the loop to verify and adjust the recommendations.\n",
    "\n",
    "For more detailed information, please refer to the [Swarms Documentation](https://docs.swarms.world/en/latest/).\n"
   ]
  },
  {
   "cell_type": "markdown",
   "id": "9086c365",
   "metadata": {},
   "source": [
    "# Installation\n",
    "To ensure you have swarms downloaded, run the following command in your bash\n",
    "\n",
    "```bash\n",
    "$ pip3 install -U swarms\n",
    "```"
   ]
  },
  {
   "cell_type": "markdown",
   "id": "35861e51",
   "metadata": {},
   "source": [
    "\n",
    "## Step 1: Setting Up the Environment\n",
    "\n",
    "First, we need to load our environment variables and initialize the model. Make sure you have your OpenAI API key stored \n",
    "in a `.env` file in the same directory as this notebook.\n"
   ]
  },
  {
   "cell_type": "code",
   "execution_count": null,
   "id": "443c085a",
   "metadata": {},
   "outputs": [],
   "source": [
    "\n",
    "import os\n",
    "from dotenv import load_dotenv\n",
    "from swarms import OpenAIChat\n",
    "\n",
    "# Load environment variables\n",
    "load_dotenv()\n",
    "\n",
    "# Get the API key from the environment variables\n",
    "api_key = os.environ.get(\"OPENAI_API_KEY\")\n",
    "\n",
    "# Initialize the OpenAIChat model\n",
    "llm = OpenAIChat(\n",
    "    temperature=0.5, openai_api_key=api_key, model_name = \"gpt-4o-mini\", max_tokens=4000\n",
    ")\n",
    "\n",
    "print(\"Environment set up and model initialized successfully!\")\n"
   ]
  },
  {
   "cell_type": "markdown",
   "id": "fd7ab1d7",
   "metadata": {},
   "source": [
    "\n",
    "## Step 2: Creating the Agents\n",
    "\n",
    "Next, we'll create the agents that will diagnose and treat issues related to extreme athletics. Each agent is assigned a specific task \n",
    "with a detailed system prompt. The agents include:\n",
    "- **SymptomAnalyzer**: Diagnoses symptoms such as nausea and fatigue.\n",
    "- **TreatmentAdvisor**: Provides treatment recommendations to recover faster.\n",
    "- **RecoveryPlanner**: Creates a detailed recovery plan.\n",
    "\n",
    "Let's create each agent with its specific prompt.\n"
   ]
  },
  {
   "cell_type": "code",
   "execution_count": null,
   "id": "7cfc4ef1",
   "metadata": {},
   "outputs": [],
   "source": [
    "\n",
    "from swarms import Agent\n",
    "\n",
    "# Initialize SymptomAnalyzer agent\n",
    "symptom_analyzer = Agent(\n",
    "    agent_name=\"SymptomAnalyzer\",\n",
    "    llm=llm,\n",
    "    max_loops=1,\n",
    "    autosave=True,\n",
    "    system_prompt=(\n",
    "        \"You are a specialist in sports medicine, particularly in diagnosing symptoms related to extreme athletics. \"\n",
    "        \"Your task is to diagnose symptoms such as nausea, fatigue, and other physical or mental conditions that athletes might experience \"\n",
    "        \"after intense activities. Provide a detailed analysis of the symptoms and suggest potential causes.\"\n",
    "    )\n",
    ")\n",
    "\n",
    "# Initialize TreatmentAdvisor agent\n",
    "treatment_advisor = Agent(\n",
    "    agent_name=\"TreatmentAdvisor\",\n",
    "    llm=llm,\n",
    "    max_loops=1,\n",
    "    autosave=True,\n",
    "    system_prompt=(\n",
    "        \"You are an expert in sports recovery and treatment. Based on the symptoms provided by the SymptomAnalyzer, your task is to recommend \"\n",
    "        \"the most effective treatments to help the athlete recover quickly. Consider factors such as hydration, nutrition, rest, and any specific \"\n",
    "        \"medical interventions that may be necessary. Provide a detailed list of recommendations.\"\n",
    "    )\n",
    ")\n",
    "\n",
    "# Initialize RecoveryPlanner agent\n",
    "recovery_planner = Agent(\n",
    "    agent_name=\"RecoveryPlanner\",\n",
    "    llm=llm,\n",
    "    max_loops=1,\n",
    "    autosave=True,\n",
    "    system_prompt=(\n",
    "        \"You are a recovery planning specialist. Your task is to create a comprehensive recovery plan based on the recommendations provided by \"\n",
    "        \"the TreatmentAdvisor. The plan should include a timeline for recovery, daily routines, nutritional guidelines, and any other relevant \"\n",
    "        \"advice to ensure the athlete returns to optimal performance as quickly as possible.\"\n",
    "    )\n",
    ")\n",
    "\n",
    "\n",
    "print(\"Agents created successfully!\")\n"
   ]
  },
  {
   "cell_type": "markdown",
   "id": "a3935121",
   "metadata": {},
   "source": [
    "\n",
    "## Step 3: Defining the Workflow with AgentRearrange\n",
    "\n",
    "Now that we have our agents, we'll set up a workflow using the `AgentRearrange` class. This workflow will process the tasks \n",
    "sequentially, with a human in the loop to verify the outputs. The flow is defined as:\n",
    "`\"SymptomAnalyzer -> HumanVerifier -> TreatmentAdvisor, RecoveryPlanner\"`\n"
   ]
  },
  {
   "cell_type": "code",
   "execution_count": null,
   "id": "bd6c5d8a",
   "metadata": {},
   "outputs": [],
   "source": [
    "\n",
    "from swarms import AgentRearrange\n",
    "\n",
    "# Create a list of agents\n",
    "agents = [symptom_analyzer, treatment_advisor, recovery_planner]\n",
    "\n",
    "# Define the flow pattern\n",
    "flow = \"SymptomAnalyzer -> H -> TreatmentAdvisor, RecoveryPlanner\"\n",
    "\n",
    "# Using AgentRearrange class to create the workflow\n",
    "agent_system = AgentRearrange(agents=agents, flow=flow, max_loops=1)\n",
    "\n",
    "print(\"Workflow defined successfully!\")\n"
   ]
  },
  {
   "cell_type": "markdown",
   "id": "8e250ca6",
   "metadata": {},
   "source": [
    "\n",
    "## Step 4: Running the Workflow\n",
    "\n",
    "Now it's time to execute the workflow. The agents will diagnose the symptoms, a human will verify the diagnosis and adjust if necessary, \n",
    "and then the treatment and recovery plan will be provided.\n"
   ]
  },
  {
   "cell_type": "code",
   "execution_count": null,
   "id": "b29026ed",
   "metadata": {},
   "outputs": [],
   "source": [
    "\n",
    "# Run the workflow\n",
    "output = agent_system.run(\"Diagnose symptoms related to extreme athletics and provide a recovery plan.\")\n",
    "print(output)\n"
   ]
  },
  {
   "cell_type": "markdown",
   "id": "c8dcf55d",
   "metadata": {},
   "source": [
    "\n",
    "## Conclusion and Next Steps\n",
    "\n",
    "You've successfully set up and run a diagnosis and treatment swarm for extreme athletics using specialized agents and a human-in-the-loop process. \n",
    "This approach demonstrates how multi-agent systems can be used to automate complex tasks, while still allowing human oversight for critical decisions.\n",
    "\n",
    "### Next Steps:\n",
    "- Explore the [Swarms Documentation](https://docs.swarms.world/en/latest/) for more details and advanced features.\n",
    "- Experiment with different agents, tasks, and scenarios to see how the system adapts.\n",
    "- Consider applying this framework to other domains, such as mental health or general medicine.\n",
    "\n",
    "Thank you for following along!\n"
   ]
  }
 ],
 "metadata": {
  "language_info": {
   "name": "python"
  }
 },
 "nbformat": 4,
 "nbformat_minor": 5
}
