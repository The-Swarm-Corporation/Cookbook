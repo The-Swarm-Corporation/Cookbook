{
 "cells": [
  {
   "cell_type": "markdown",
   "id": "dfd2e7ff",
   "metadata": {},
   "source": [
    "# Swarms Cookbook: MedInsight Pro Medical Research Summarization\n",
    "\n",
    "Welcome to the Swarms Cookbook! In this guide, we will demonstrate how to use **MedInsight Pro**, an AI-driven agent that extracts actionable insights from medical research. \n",
    "\n",
    "**MedInsight Pro** is designed for healthcare professionals, researchers, and innovators to quickly summarize complex medical papers, discover breakthrough treatments, and stay updated on clinical trials and emerging trends.\n",
    "\n",
    "### Key Features:\n",
    "- **Advanced NLP**: Powered by GPT-4 for understanding dense medical research.\n",
    "- **Real-Time Data Retrieval**: Integrated with PubMed, Semantic Scholar, and other research databases.\n",
    "- **Actionable Insights**: Extracts key findings from large volumes of research.\n",
    "- **Scalable**: Suitable for enterprise-scale deployments.\n",
    "  \n",
    "Follow the guide below to get started with **MedInsight Pro** for your medical research needs.\n",
    "\n",
    "Be sure to visit the **[Swarms GitHub](https://github.com/kyegomez/swarms)**, **[Discord](https://discord.com/servers/agora-999382051935506503)**, and **[Swarms Marketplace](https://swarms.xyz)** to learn more and connect with the community.\n"
   ]
  },
  {
   "cell_type": "markdown",
   "id": "fb328770",
   "metadata": {},
   "source": [
    "## Installation\n",
    "\n",
    "First, install the **MedInsight Pro** package by running the following command:\n",
    "\n",
    "```bash\n",
    "pip install -U medinsight\n",
    "```\n",
    "\n",
    "Additionally, you will need to create a `.env` file with the following environment variables for API access:\n",
    "\n",
    "```bash\n",
    "OPENAI_API_KEY=\"your-openai-api-key\"\n",
    "PUBMED_API_KEY=\"your-pubmed-api-key\"  # Optional, for enhanced rate limits\n",
    "SEMANTIC_SCHOLAR_API_KEY=\"your-semantic-scholar-api-key\"\n",
    "WORKSPACE_ID=\"your-workspace-id\"\n",
    "ENTREZ_EMAIL=\"your-email@example.com\"\n",
    "```\n"
   ]
  },
  {
   "cell_type": "code",
   "execution_count": null,
   "id": "26c32ba6",
   "metadata": {},
   "outputs": [],
   "source": [
    "# Import necessary libraries\n",
    "from medinsight.agent import MedInsightPro\n",
    "from loguru import logger\n",
    "\n",
    "# Ensure proper logging setup\n",
    "logger.add(\"medinsight_agent.log\", rotation=\"500 MB\")\n",
    "\n",
    "# Load environment variables from the .env file\n",
    "import os\n",
    "from dotenv import load_dotenv\n",
    "\n",
    "load_dotenv()\n",
    "\n",
    "# Ensure API keys are loaded\n",
    "openai_api_key = os.getenv(\"OPENAI_API_KEY\")\n",
    "pubmed_api_key = os.getenv(\"PUBMED_API_KEY\")\n",
    "semantic_scholar_api_key = os.getenv(\"SEMANTIC_SCHOLAR_API_KEY\")\n"
   ]
  },
  {
   "cell_type": "markdown",
   "id": "722614f0",
   "metadata": {},
   "source": [
    "## Setting Up MedInsight Pro\n",
    "\n",
    "Now, let's initialize the **MedInsight Pro** agent for summarizing the latest medical research.\n",
    "\n",
    "MedInsight Pro uses API integrations with PubMed and Semantic Scholar to fetch real-time data and GPT-4 for generating accurate summaries.\n",
    "\n",
    "Below, we will set up the agent and summarize recent research on **COVID-19 treatments**.\n"
   ]
  },
  {
   "cell_type": "code",
   "execution_count": null,
   "id": "7e0b2e3d",
   "metadata": {},
   "outputs": [],
   "source": [
    "# Initialize the MedInsight Pro agent\n",
    "agent = MedInsightPro()\n",
    "\n",
    "# Run the query to summarize recent medical research on COVID-19 treatments\n",
    "output = agent.run(\"Summarize the latest medical research on COVID-19 treatments\")\n",
    "\n",
    "# Output the result\n",
    "print(output)\n"
   ]
  },
  {
   "cell_type": "markdown",
   "id": "30922804",
   "metadata": {},
   "source": [
    "## How It Works\n",
    "\n",
    "- **Advanced NLP Models**: MedInsight Pro leverages GPT-4 to read and summarize complex medical research papers, producing clear and concise summaries.\n",
    "- **Real-Time Data Retrieval**: Fetches medical research papers from PubMed and Semantic Scholar, automatically processing the most recent studies.\n",
    "- **Actionable Insights**: Extracts valuable information on medical breakthroughs, clinical trials, and treatment options, providing concise reports for healthcare professionals.\n",
    "- **Scalable Integration**: MedInsight Pro can handle large-scale operations, processing thousands of medical papers across different platforms with support for API rate limits and retries.\n"
   ]
  },
  {
   "cell_type": "markdown",
   "id": "3e3e4fc2",
   "metadata": {},
   "source": [
    "## Next Steps and Resources\n",
    "\n",
    "Congratulations! You've successfully set up and run a medical research summarization using **MedInsight Pro**.\n",
    "\n",
    "To explore more:\n",
    "- Try different queries for various medical topics.\n",
    "- Adjust settings like context length and summarization depth to customize the output.\n",
    "- Integrate MedInsight Pro into your own medical research platform.\n",
    "\n",
    "For more examples and contributions, check out:\n",
    "- **[Swarms GitHub](https://github.com/kyegomez/swarms)**\n",
    "- **[Swarms Discord](https://discord.com/servers/agora-999382051935506503)**\n",
    "- **[Swarms Marketplace](https://swarms.xyz)**\n",
    "\n",
    "Stay informed and connected with the Swarms community as you continue advancing medical research automation!\n"
   ]
  }
 ],
 "metadata": {},
 "nbformat": 4,
 "nbformat_minor": 5
}
